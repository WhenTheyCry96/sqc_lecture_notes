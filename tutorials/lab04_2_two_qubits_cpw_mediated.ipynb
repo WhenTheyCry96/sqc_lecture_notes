{
 "cells": [
  {
   "cell_type": "markdown",
   "metadata": {},
   "source": [
    "# Lab 04_2: Two-qubit (CPW Resonator Bus Coupling)\n",
    "\n",
    "### developed by Seong Hyeon Park (pajoheji0909@snu.ac.kr)\n",
    "\n",
    "### Please find the attached homework at the end of this tutorial code"
   ]
  },
  {
   "cell_type": "code",
   "execution_count": null,
   "metadata": {},
   "outputs": [],
   "source": [
    "import warnings\n",
    "warnings.filterwarnings('ignore')"
   ]
  },
  {
   "cell_type": "code",
   "execution_count": null,
   "metadata": {},
   "outputs": [],
   "source": [
    "from qiskit_metal import designs, MetalGUI, Dict\n",
    "\n",
    "design = designs.DesignPlanar()\n",
    "design.overwrite_enabled = True"
   ]
  },
  {
   "cell_type": "code",
   "execution_count": null,
   "metadata": {},
   "outputs": [],
   "source": [
    "# set the overall layout size (X)\n",
    "design.chips.main.size.size_x = '6mm'\n",
    "# set the overall layout size (Y)\n",
    "design.chips.main.size.size_y = '6mm'\n",
    "# set the substrate thickness (Z)\n",
    "design.chips.main.size.size_z = '-400um'"
   ]
  },
  {
   "cell_type": "code",
   "execution_count": null,
   "metadata": {},
   "outputs": [],
   "source": [
    "# start GUI\n",
    "gui = MetalGUI(design)"
   ]
  },
  {
   "cell_type": "code",
   "execution_count": null,
   "metadata": {},
   "outputs": [],
   "source": [
    "hfss = design.renderers.hfss\n",
    "# start ANSYS HFSS\n",
    "hfss.start()"
   ]
  },
  {
   "cell_type": "code",
   "execution_count": null,
   "metadata": {},
   "outputs": [],
   "source": [
    "import pyEPR as epr\n",
    "import qiskit_metal as metal"
   ]
  },
  {
   "cell_type": "markdown",
   "metadata": {},
   "source": [
    "## design two qubits capacitively coupled to a CPW resonator"
   ]
  },
  {
   "cell_type": "code",
   "execution_count": null,
   "metadata": {},
   "outputs": [],
   "source": [
    "# for readout resonator (CPW)\n",
    "from qiskit_metal.qlibrary.tlines.meandered import RouteMeander\n",
    "from qiskit_metal.qlibrary.tlines.straight_path import RouteStraight\n",
    "from qiskit_metal.qlibrary.couplers.coupled_line_tee import CoupledLineTee\n",
    "from qiskit_metal.qlibrary.terminations.open_to_ground import OpenToGround\n",
    "from qiskit_metal.qlibrary.terminations.short_to_ground import ShortToGround\n",
    "from qiskit_metal.qlibrary.terminations.launchpad_wb_driven import LaunchpadWirebondDriven\n",
    "\n",
    "# there are various in-built qubit types in Qiskit-Metal, you should try it by yourself\n",
    "from qiskit_metal.qlibrary.qubits.transmon_pocket_6 import TransmonPocket6"
   ]
  },
  {
   "cell_type": "code",
   "execution_count": null,
   "metadata": {},
   "outputs": [],
   "source": [
    "cpw_w = '10 um'; cpw_g = '6 um'\n",
    "\n",
    "tr1_Ljj = '13nH' ; tr1_Cjj = '2fF'\n",
    "res1_l = '3.5 mm'; res1_coup_l = '600 um'; res1_coup_g = '2um'\n",
    "\n",
    "tr2_Ljj = '13.5nH' ; tr2_Cjj = '2fF'\n",
    "res2_l = '3.6 mm'; res2_coup_l = '600 um'; res2_coup_g = '2um'\n",
    "\n",
    "busres_l = '8.5 mm'\n",
    "\n",
    "design.delete_all_components()\n",
    "\n",
    "launch_options = dict(\n",
    "    chip='main', \n",
    "    pos_x=\"-2.12 mm\", \n",
    "    pos_y=\"0mm\",  \n",
    "    orientation='360', \n",
    "    lead_length='0um',\n",
    "    pad_width='300um',\n",
    "    pad_height='300um',\n",
    "    pad_gap='180um',\n",
    "    taper_height='300um'\n",
    ")\n",
    "RP1 = LaunchpadWirebondDriven(design, 'RP1', options = launch_options)\n",
    "\n",
    "launch_options = dict(\n",
    "    chip='main', \n",
    "    pos_x=\"2.12 mm\", \n",
    "    pos_y=\"0mm\",  \n",
    "    orientation='180', \n",
    "    lead_length='30um',\n",
    "    pad_width='300um',\n",
    "    pad_height='300um',\n",
    "    pad_gap='180um',\n",
    "    taper_height='300um'\n",
    ")\n",
    "RP2 = LaunchpadWirebondDriven(design, 'RP2', options = launch_options)\n",
    "\n",
    "clt_options = dict(\n",
    "    chip='main', \n",
    "    pos_x=\"-1mm\", \n",
    "    pos_y=\"0mm\",\n",
    "    prime_width=cpw_w,\n",
    "    prime_gap=cpw_g,\n",
    "    second_width=cpw_w,\n",
    "    second_gap=cpw_g,\n",
    "    coupling_space=res1_coup_g,\n",
    "    coupling_length=res1_coup_l,\n",
    "    down_length='100um',\n",
    "    fillet='40um',\n",
    "    mirror=False,\n",
    "    open_termination=False,\n",
    "    hfss_wire_bonds = False\n",
    ")\n",
    "CLT1 = CoupledLineTee(design, 'CLT1', options = clt_options)\n",
    "\n",
    "route_options = Dict(hfss_wire_bonds = True,\n",
    "                     pin_inputs=Dict(start_pin=Dict(component='RP1', pin='tie'),\n",
    "                                     end_pin=Dict(component='CLT1',pin='prime_start')),\n",
    "                     trace_width=cpw_w, trace_gap=cpw_g)\n",
    "TL1 = RouteStraight(design, 'TL1', options=route_options)\n",
    "\n",
    "clt_options = dict(\n",
    "    chip='main', \n",
    "    pos_x=\"1mm\", \n",
    "    pos_y=\"0mm\",\n",
    "    prime_width=cpw_w,\n",
    "    prime_gap=cpw_g,\n",
    "    second_width=cpw_w,\n",
    "    second_gap=cpw_g,\n",
    "    coupling_space=res1_coup_g,\n",
    "    coupling_length=res1_coup_l,\n",
    "    down_length='100um',\n",
    "    fillet='40um',\n",
    "    mirror=True,\n",
    "    open_termination=False,\n",
    "    hfss_wire_bonds = False\n",
    ")\n",
    "CLT2 = CoupledLineTee(design, 'CLT2', options = clt_options)\n",
    "\n",
    "route_options = Dict(hfss_wire_bonds = True,\n",
    "                     pin_inputs=Dict(start_pin=Dict(component='CLT1', pin='prime_end'),\n",
    "                                     end_pin=Dict(component='CLT2',pin='prime_start')),\n",
    "                     trace_width=cpw_w, trace_gap=cpw_g)\n",
    "TL2 = RouteStraight(design, 'TL2', options=route_options)\n",
    "\n",
    "route_options = Dict(hfss_wire_bonds = True,\n",
    "                     pin_inputs=Dict(start_pin=Dict(component='CLT2', pin='prime_end'),\n",
    "                                     end_pin=Dict(component='RP2',pin='tie')),\n",
    "                     trace_width=cpw_w, trace_gap=cpw_g)\n",
    "TL3 = RouteStraight(design, 'TL3', options=route_options)\n",
    "\n",
    "tr_options = dict(pos_x=\"-0.9mm\", pos_y=\"-1.7mm\", orientation = 180,\n",
    "                  pad_width = '600um', pad_height = '60um', pad_gap = '30um',\n",
    "                  pocket_height = '300um', pocket_width = '700um', inductor_width = '10um',\n",
    "                  connection_pads=dict(readout = dict(loc_W=0,loc_H=-1, \n",
    "                                                      pad_height='20um', pad_width='200um', pad_gap='20um', pad_shift='0um',\n",
    "                                                      cpw_width=cpw_w, cpw_gap=cpw_g, cpw_extend='-120um',pad_cpw_extent='-120um'),\n",
    "                                       qubus1 = dict(loc_W=-1,loc_H=+1, \n",
    "                                                     pad_height='30um', pad_width='150um', pad_gap='10um', pad_cpw_shift='10um', pad_shift='0um',\n",
    "                                                     cpw_width=cpw_w, cpw_gap=cpw_g, cpw_extend='0 um')),\n",
    "                  hfss_inductance = tr1_Ljj,\n",
    "                  hfss_capacitance = tr1_Cjj\n",
    "                 )\n",
    "Q1 = TransmonPocket6(design, 'Q1', options = tr_options)\n",
    "\n",
    "route_options = Dict(chip='main',\n",
    "                     hfss_wire_bonds = True,\n",
    "                     pin_inputs=Dict(start_pin=Dict(component='Q1',pin='readout'),\n",
    "                                     end_pin=Dict(component='CLT1',pin='second_end')),\n",
    "                     trace_width=cpw_w,\n",
    "                     trace_gap=cpw_g,\n",
    "                     total_length=res1_l,\n",
    "                     fillet=\"80um\",\n",
    "                     meander = dict(spacing = '300um', asymmetry = '300um'),\n",
    "                     lead = dict(start_straight = '100um', end_straight = '100 um'))\n",
    "RR1 = RouteMeander(design, 'RR1', options=route_options)\n",
    "\n",
    "qctrl1open = OpenToGround(design, 'QCTRL1OPEN', options=dict(pos_x='-0.9mm',  pos_y='-1.95mm', orientation='90'))\n",
    "\n",
    "launch_options = dict(\n",
    "    chip='main', \n",
    "    pos_x=\"-0.9mm\", \n",
    "    pos_y=\"-2.38mm\",  \n",
    "    orientation='90', \n",
    "    lead_length='0um',\n",
    "    pad_width='200um',\n",
    "    pad_height='200um',\n",
    "    pad_gap='120um',\n",
    "    taper_height='200um'\n",
    ")\n",
    "QCTRLP1 = LaunchpadWirebondDriven(design, 'QCTRLP1', options = launch_options)\n",
    "\n",
    "route_options = Dict(hfss_wire_bonds = True,\n",
    "                     pin_inputs=Dict(start_pin=Dict(component='QCTRL1OPEN', pin='open'),\n",
    "                                     end_pin=Dict(component='QCTRLP1',pin='tie')),\n",
    "                     trace_width=cpw_w, trace_gap=cpw_g)\n",
    "QCTRLR1 = RouteStraight(design, 'QCTRLR1', options=route_options)\n",
    "\n",
    "tr_options = dict(pos_x=\"0.9mm\", pos_y=\"-1.7mm\", orientation = 180,\n",
    "                  pad_width = '600um', pad_height = '60um', pad_gap = '30um',\n",
    "                  pocket_height = '300um', pocket_width = '700um', inductor_width = '10um',\n",
    "                  connection_pads=dict(readout = dict(loc_W=0,loc_H=-1, \n",
    "                                                      pad_height='20um', pad_width='200um', pad_gap='20um', pad_shift='0um',\n",
    "                                                      cpw_width=cpw_w, cpw_gap=cpw_g, cpw_extend='-120um',pad_cpw_extent='-120um'),\n",
    "                                       qubus2 = dict(loc_W=1,loc_H=+1, \n",
    "                                                     pad_height='30um', pad_width='150um', pad_gap='10um', pad_cpw_shift='10um', pad_shift='0um',\n",
    "                                                     cpw_width=cpw_w, cpw_gap=cpw_g, cpw_extend='0 um')),\n",
    "                  hfss_inductance = tr2_Ljj,\n",
    "                  hfss_capacitance = tr2_Cjj\n",
    "                 )\n",
    "Q2 = TransmonPocket6(design, 'Q2', options = tr_options)\n",
    "\n",
    "route_options = Dict(chip='main',\n",
    "                     hfss_wire_bonds = True,\n",
    "                     pin_inputs=Dict(start_pin=Dict(component='Q2',pin='readout'),\n",
    "                                     end_pin=Dict(component='CLT2',pin='second_end')),\n",
    "                     trace_width=cpw_w,\n",
    "                     trace_gap=cpw_g,\n",
    "                     total_length=res2_l,\n",
    "                     fillet=\"80um\",\n",
    "                     meander = dict(spacing = '210um', asymmetry = '-300um'),\n",
    "                     lead = dict(start_straight = '100um', end_straight = '100 um'))\n",
    "RR2 = RouteMeander(design, 'RR2', options=route_options)\n",
    "\n",
    "launch_options = dict(\n",
    "    chip='main', \n",
    "    pos_x=\"0.9mm\", \n",
    "    pos_y=\"-2.38mm\",  \n",
    "    orientation='90', \n",
    "    lead_length='0um',\n",
    "    pad_width='200um',\n",
    "    pad_height='200um',\n",
    "    pad_gap='120um',\n",
    "    taper_height='200um'\n",
    ")\n",
    "QCTRLP2 = LaunchpadWirebondDriven(design, 'QCTRLP2', options = launch_options)\n",
    "\n",
    "qctrl2open = OpenToGround(design, 'QCTRL2OPEN', options=dict(pos_x='0.9mm',  pos_y='-1.95mm', orientation='90'))\n",
    "\n",
    "route_options = Dict(hfss_wire_bonds = True,\n",
    "                     pin_inputs=Dict(start_pin=Dict(component='QCTRL2OPEN', pin='open'),\n",
    "                                     end_pin=Dict(component='QCTRLP2',pin='tie')),\n",
    "                     trace_width=cpw_w, trace_gap=cpw_g)\n",
    "QCTRLR2 = RouteStraight(design, 'QCTRLR2', options=route_options)\n",
    "\n",
    "route_options = Dict(hfss_wire_bonds = False,\n",
    "                     pin_inputs=Dict(start_pin=Dict(component='Q1', pin='qubus1'),\n",
    "                                     end_pin=Dict(component='Q2',pin='qubus2')),\n",
    "                     trace_width=cpw_w,\n",
    "                     trace_gap=cpw_g,\n",
    "                     total_length=busres_l,\n",
    "                     fillet=\"50um\",\n",
    "                     meander = dict(spacing = '120um', asymmetry = '0um'),\n",
    "                     lead = dict(start_straight = '100um', end_straight = '10 um'))\n",
    "QQBUS1 = RouteMeander(design, 'QQBUS1', options=route_options)\n",
    "\n",
    "gui.rebuild()\n",
    "gui.autoscale()\n",
    "\n",
    "# take a screenshot of the GUI\n",
    "gui.screenshot()"
   ]
  },
  {
   "cell_type": "markdown",
   "metadata": {},
   "source": [
    "## draw selected components only for simplicity\n",
    "* Transmon qubits and coupler bus"
   ]
  },
  {
   "cell_type": "code",
   "execution_count": null,
   "metadata": {},
   "outputs": [],
   "source": [
    "cpw_w = '10 um'; cpw_g = '6 um'\n",
    "\n",
    "tr1_Ljj = '13nH' ; tr1_Cjj = '2fF'\n",
    "res1_l = '3.5 mm'; res1_coup_l = '600 um'; res1_coup_g = '2um'\n",
    "\n",
    "tr2_Ljj = '13.5nH' ; tr2_Cjj = '2fF'\n",
    "res2_l = '3.6 mm'; res2_coup_l = '600 um'; res2_coup_g = '2um'\n",
    "\n",
    "busres_l = '8.5 mm'\n",
    "\n",
    "design.delete_all_components()\n",
    "\n",
    "tr_options = dict(pos_x=\"-0.9mm\", pos_y=\"-1.7mm\", orientation = 180,\n",
    "                  pad_width = '600um', pad_height = '60um', pad_gap = '30um',\n",
    "                  pocket_height = '300um', pocket_width = '700um', inductor_width = '10um',\n",
    "                  connection_pads=dict(qubus1 = dict(loc_W=-1,loc_H=+1, \n",
    "                                                     pad_height='30um', pad_width='150um', pad_gap='10um', pad_cpw_shift='10um', pad_shift='0um',\n",
    "                                                     cpw_width=cpw_w, cpw_gap=cpw_g, cpw_extend='0 um')),\n",
    "                  hfss_inductance = tr1_Ljj,\n",
    "                  hfss_capacitance = tr1_Cjj\n",
    "                 )\n",
    "Q1 = TransmonPocket6(design, 'Q1', options = tr_options)\n",
    "\n",
    "tr_options = dict(pos_x=\"0.9mm\", pos_y=\"-1.7mm\", orientation = 180,\n",
    "                  pad_width = '600um', pad_height = '60um', pad_gap = '30um',\n",
    "                  pocket_height = '300um', pocket_width = '700um', inductor_width = '10um',\n",
    "                  connection_pads=dict(qubus2 = dict(loc_W=1,loc_H=+1, \n",
    "                                                     pad_height='30um', pad_width='150um', pad_gap='10um', pad_cpw_shift='10um', pad_shift='0um',\n",
    "                                                     cpw_width=cpw_w, cpw_gap=cpw_g, cpw_extend='0 um')),\n",
    "                  hfss_inductance = tr2_Ljj,\n",
    "                  hfss_capacitance = tr2_Cjj\n",
    "                 )\n",
    "Q2 = TransmonPocket6(design, 'Q2', options = tr_options)\n",
    "\n",
    "route_options = Dict(hfss_wire_bonds = False,\n",
    "                     pin_inputs=Dict(start_pin=Dict(component='Q1', pin='qubus1'),\n",
    "                                     end_pin=Dict(component='Q2',pin='qubus2')),\n",
    "                     trace_width=cpw_w,\n",
    "                     trace_gap=cpw_g,\n",
    "                     total_length=busres_l,\n",
    "                     fillet=\"50um\",\n",
    "                     meander = dict(spacing = '120um', asymmetry = '0um'),\n",
    "                     lead = dict(start_straight = '100um', end_straight = '10 um'))\n",
    "QQBUS1 = RouteMeander(design, 'QQBUS1', options=route_options)\n",
    "\n",
    "gui.rebuild()\n",
    "gui.autoscale()\n",
    "\n",
    "# take a screenshot of the GUI\n",
    "gui.screenshot()"
   ]
  },
  {
   "cell_type": "markdown",
   "metadata": {},
   "source": [
    "# method (1): Energy Participation Ratio (EPR)"
   ]
  },
  {
   "cell_type": "code",
   "execution_count": null,
   "metadata": {},
   "outputs": [],
   "source": [
    "from qiskit_metal.analyses.quantization import EPRanalysis\n",
    "\n",
    "# project name\n",
    "proj_name = \"lab04_two_qubits_cpwbus\"\n",
    "\n",
    "eig_s = EPRanalysis(design, \"hfss\")\n",
    "hfss = eig_s.sim.renderer\n",
    "\n",
    "try:\n",
    "    hfss.start()\n",
    "except:\n",
    "    hfss.activate_design(proj_name)"
   ]
  },
  {
   "cell_type": "code",
   "execution_count": null,
   "metadata": {},
   "outputs": [],
   "source": [
    "from qiskit_metal.analyses.quantization import EPRanalysis\n",
    "\n",
    "# define the EPR analysis class\n",
    "eig_s = EPRanalysis(design, \"hfss\")\n",
    "\n",
    "# define the renderer program for the eigenmode simulation\n",
    "hfss = eig_s.sim.renderer\n",
    "\n",
    "# try-except to avoid common(?) error during the HFSS rendering\n",
    "try:\n",
    "    hfss.start()\n",
    "except:\n",
    "    hfss.activate_design(proj_name)\n",
    "\n",
    "# NOTE: you should define the junction in HFSS\n",
    "eig_s.setup.junctions.jj1.rect = 'JJ_rect_Lj_Q1_rect_jj'\n",
    "eig_s.setup.junctions.jj1.line = 'JJ_Lj_Q1_rect_jj_'\n",
    "\n",
    "eig_s.setup.junctions.jj2.rect = 'JJ_rect_Lj_Q2_rect_jj'\n",
    "eig_s.setup.junctions.jj2.line = 'JJ_Lj_Q2_rect_jj_'\n",
    "\n",
    "# define the setup\n",
    "em_s = eig_s.sim.setup\n",
    "em_s.name = \"setup_custom\"\n",
    "\n",
    "# minimum searching frequency\n",
    "em_s.min_freq = 3\n",
    "\n",
    "# target eigenmode number\n",
    "# NOTE: now you have two components... you should find 'three' eigenmodes (two for qubits and one for CPW bus)\n",
    "em_s.n_modes = 3\n",
    "\n",
    "# maximum pass number\n",
    "em_s.max_passes = 15\n",
    "\n",
    "# criteria for eigenmode simulation convergence: maximum delta F_eigen between passes < value\n",
    "em_s.max_delta_f = 0.5\n",
    "\n",
    "# simulation minimum converged passes \n",
    "em_s.min_converged = 2\n",
    "\n",
    "# simulation order 0: point, 1: line, 2: face\n",
    "em_s.basis_order = 1\n",
    "\n",
    "# Design variables can also be added in for direct simulation sweeps. Here, we have to set the junction inductance and capacitance\n",
    "em_s.vars = Dict({'Lj1': tr1_Ljj, 'Cj1': tr1_Cjj,\n",
    "                  'Lj2': tr2_Ljj, 'Cj2': tr2_Cjj})\n"
   ]
  },
  {
   "cell_type": "code",
   "execution_count": null,
   "metadata": {},
   "outputs": [],
   "source": [
    "eig_s.sim._render(name=proj_name,                # design name\n",
    "                  selection = [],                # if None --> all\n",
    "                  solution_type='eigenmode',     # NOTE: case sensitive\n",
    "                  vars_to_initialize=em_s.vars,  # set variables\n",
    "                  open_pins=[],                  # set open pins\n",
    "                  port_list=[],                  # set ports, for eigenmode simulations --> R = 50 Ohm boundary conditions \n",
    "                  box_plus_buffer = True)        # if False --> set the overall layout as you defined above. If True --> set marginal chip sizes as you set here."
   ]
  },
  {
   "cell_type": "code",
   "execution_count": null,
   "metadata": {},
   "outputs": [],
   "source": [
    "# mesh setting name, components, maximum mesh length\n",
    "hfss.modeler.mesh_length('qubitpad_mesh_setting', \n",
    "                         ['pad_bot_Q1', 'pad_top_Q1',\n",
    "                          'pad_bot_Q2', 'pad_top_Q2'], \n",
    "                         MaxLength='0.1 mm')\n",
    "\n",
    "hfss.modeler.mesh_length('cpw_mesh_setting', \n",
    "                         ['trace_QQBUS1', 'qubus1_connector_pad_Q1', 'qubus1_wire_Q1', 'qubus2_connector_pad_Q2', 'qubus2_wire_Q2'], \n",
    "                         MaxLength='0.05 mm')"
   ]
  },
  {
   "cell_type": "code",
   "execution_count": null,
   "metadata": {},
   "outputs": [],
   "source": [
    "eig_s.sim._analyze()"
   ]
  },
  {
   "cell_type": "code",
   "execution_count": null,
   "metadata": {},
   "outputs": [],
   "source": [
    "pinfo = hfss.pinfo\n",
    "pinfo.junctions['jj1'] = {'rect':'JJ_rect_Lj_Q1_rect_jj', 'line':'JJ_Lj_Q1_rect_jj_',\n",
    "                         'Lj_variable':'Lj1', 'Cj_variable':'Cj1'}\n",
    "\n",
    "pinfo.junctions['jj2'] = {'rect':'JJ_rect_Lj_Q2_rect_jj', 'line':'JJ_Lj_Q2_rect_jj_',\n",
    "                         'Lj_variable':'Lj2', 'Cj_variable':'Cj2'}\n",
    "\n",
    "pinfo.validate_junction_info() # Check that valid names of variables and objects have been supplied"
   ]
  },
  {
   "cell_type": "code",
   "execution_count": null,
   "metadata": {},
   "outputs": [],
   "source": [
    "eprd = epr.DistributedAnalysis(pinfo)\n",
    "eprd.do_EPR_analysis()"
   ]
  },
  {
   "cell_type": "code",
   "execution_count": null,
   "metadata": {},
   "outputs": [],
   "source": [
    "epra = epr.QuantumAnalysis(eprd.data_filename)\n",
    "epra.analyze_all_variations(cos_trunc = 8, fock_trunc = 10)"
   ]
  },
  {
   "cell_type": "markdown",
   "metadata": {},
   "source": [
    "# Method (2): Capacitance Analysis and LOM derivation using the analysis package"
   ]
  },
  {
   "cell_type": "code",
   "execution_count": null,
   "metadata": {},
   "outputs": [],
   "source": [
    "import scqubits as scq\n",
    "\n",
    "from scipy.constants import speed_of_light as c_light\n",
    "from qiskit_metal.analyses.quantization import LOManalysis\n",
    "from qiskit_metal.analyses.quantization.lumped_capacitive import load_q3d_capacitance_matrix\n",
    "from qiskit_metal.analyses.quantization.lom_core_analysis import CompositeSystem, Cell, Subsystem, QuantumSystemRegistry\n",
    "c1 = LOManalysis(design, \"q3d\")"
   ]
  },
  {
   "cell_type": "code",
   "execution_count": null,
   "metadata": {},
   "outputs": [],
   "source": [
    "# example: update single setting\n",
    "c1.sim.setup.max_passes = 30\n",
    "c1.sim.setup.freq_ghz = 5\n",
    "\n",
    "# example: update multiple settings\n",
    "c1.sim.setup_update(solution_order = 'Medium', auto_increase_solution_order = 'False')\n",
    "\n",
    "c1.sim.setup"
   ]
  },
  {
   "cell_type": "code",
   "execution_count": null,
   "metadata": {},
   "outputs": [],
   "source": [
    "# you should define the open terminations, where coupling structures of a qubit end\n",
    "c1.sim.run(components=['Q1'], open_terminations=[('Q1', 'qubus1')])\n",
    "\n",
    "# c1.setup.run <- direct access\n",
    "c1.sim.print_run_args()\n",
    "\n",
    "q1_cmatrix = c1.sim.capacitance_matrix\n",
    "\n",
    "# you should define the open terminations, where coupling structures of a qubit end\n",
    "c1.sim.run(components=['Q2'], open_terminations=[('Q2', 'qubus2')])\n",
    "\n",
    "# c1.setup.run <- direct access\n",
    "c1.sim.print_run_args()\n",
    "\n",
    "q2_cmatrix = c1.sim.capacitance_matrix"
   ]
  },
  {
   "cell_type": "code",
   "execution_count": null,
   "metadata": {},
   "outputs": [],
   "source": [
    "# cell 1: transmon 1\n",
    "\n",
    "opt1 = dict(cap_mat = q1_cmatrix,\n",
    "            ind_dict = {('pad_top_Q1', 'pad_bot_Q1'):13},  # junction inductance in nH\n",
    "            jj_dict = {('pad_top_Q1', 'pad_bot_Q1'):'j1'},\n",
    "            cj_dict = {('pad_top_Q1', 'pad_bot_Q1'):2},    # junction capacitance in fF\n",
    "            )\n",
    "cell_1 = Cell(opt1)\n",
    "\n",
    "# cell 2: transmon 2\n",
    "opt2 = dict(cap_mat = q2_cmatrix,\n",
    "            ind_dict = {('pad_top_Q2', 'pad_bot_Q2'): 13.5}, # junction inductance in nH\n",
    "            jj_dict = {('pad_top_Q2', 'pad_bot_Q2'):'j2'},\n",
    "            cj_dict = {('pad_top_Q2', 'pad_bot_Q2'):2},      # junction capacitance in fF\n",
    "            )\n",
    "cell_2 = Cell(opt2)"
   ]
  },
  {
   "cell_type": "code",
   "execution_count": null,
   "metadata": {},
   "outputs": [],
   "source": [
    "# subsystem 1: transmon qubit Q1\n",
    "transmon_Q1 = Subsystem(name='Q1', sys_type='TRANSMON', nodes=['j1'])\n",
    "\n",
    "# subsystem 2: transmon qubit Q2\n",
    "transmon_Q2 = Subsystem(name='Q2', sys_type='TRANSMON', nodes=['j2'])\n",
    "\n",
    "# subsystem 3: bus resonator RR1\n",
    "q_opts = dict(f_res = 6.70,           # bus dressed frequency in GHz\n",
    "              Z0 = 50,                # characteristic impedance in Ohm\n",
    "              vp = 0.404314 * c_light # phase velocity \n",
    "              )\n",
    "res_BUS = Subsystem(name='res_BUS', sys_type='TL_RESONATOR', nodes=['qubus1_connector_pad_Q1', 'qubus2_connector_pad_Q2'], q_opts=q_opts)"
   ]
  },
  {
   "cell_type": "code",
   "execution_count": null,
   "metadata": {},
   "outputs": [],
   "source": [
    "composite_sys = CompositeSystem(subsystems=[transmon_Q1, transmon_Q2, res_BUS], \n",
    "                                cells=[cell_1, cell_2], \n",
    "                                grd_node='ground_main_plane',\n",
    "                                nodes_force_keep=['qubus1_connector_pad_Q1', 'qubus2_connector_pad_Q2']\n",
    "                                )"
   ]
  },
  {
   "cell_type": "code",
   "execution_count": null,
   "metadata": {},
   "outputs": [],
   "source": [
    "cg = composite_sys.circuitGraph()\n",
    "print(cg)"
   ]
  },
  {
   "cell_type": "code",
   "execution_count": null,
   "metadata": {},
   "outputs": [],
   "source": [
    "hilbertspace = composite_sys.create_hilbertspace()\n",
    "print(hilbertspace)"
   ]
  },
  {
   "cell_type": "code",
   "execution_count": null,
   "metadata": {},
   "outputs": [],
   "source": [
    "hilbertspace = composite_sys.add_interaction()\n",
    "hilbertspace.hamiltonian()"
   ]
  },
  {
   "cell_type": "code",
   "execution_count": null,
   "metadata": {},
   "outputs": [],
   "source": [
    "hamiltonian_results = composite_sys.hamiltonian_results(hilbertspace, evals_count=30)"
   ]
  },
  {
   "cell_type": "code",
   "execution_count": null,
   "metadata": {},
   "outputs": [],
   "source": [
    "composite_sys.compute_gs()"
   ]
  },
  {
   "cell_type": "markdown",
   "metadata": {},
   "source": [
    "## Analytic expressions to calculate $\\nu_{ZZ}$ between qubits\n",
    "\n",
    "The full Hamiltonian to model the two-qubit, capacitively coupled to a bus resonator, can be expressed as follows\n",
    "\n",
    "$\\mathcal{H}=\\sum_{q=1}^{2}[\\omega_q a^\\dagger_q a_q + \\alpha_q a^\\dagger_q a_q(a^\\dagger_q a_q-1)]+\\omega_r c^\\dagger c + \\sum_{q=1}^{2}g_{q,r}(a^\\dagger_qc+a_qc^\\dagger),$\n",
    "\n",
    "where $\\omega_q, \\omega_r, g_{q,r}$ are the qubit frequency, bus resonator frequency, and coupling strength between a qubit and a bus resonator.\n",
    "Note that $a, c$ are the annihilation operators and $a^\\dagger, c^\\dagger$ are creation operators, respectively.\n",
    "\n",
    "The effective coupling ($J$) between qubits can be derived as \n",
    "\n",
    "$J = \\frac{g_{1r}g_{2r}(\\omega_1+\\omega_2-2\\omega_r)}{2(\\omega_1-\\omega_r)(\\omega_2-\\omega_r)}$,\n",
    "\n",
    "and the ZZ coupling ($\\nu_{ZZ}$) between qubits can be calculated as \n",
    "\n",
    "$\\nu_{ZZ}=-\\frac{2J^2(\\alpha_1+\\alpha_2)}{(\\Delta_{12}+\\alpha_1)(\\Delta_{12}+\\alpha_2)},$\n",
    "\n",
    "where $\\Delta_{12}=\\omega_{1}-\\omega_2$ is detuning frequency between qubits.\n",
    "\n",
    "Reference: E Magesan and JM Gambetta, \"Effective Hamiltonian models of the crossresonance gate,\" *Phys. Rev. A,* **101**, 052308 (2020) DOI: https://doi.org/10.1103/PhysRevA.101.052308"
   ]
  },
  {
   "cell_type": "code",
   "execution_count": null,
   "metadata": {},
   "outputs": [],
   "source": [
    "from qutip import qeye, destroy, tensor\n",
    "\n",
    "import numpy as np\n",
    "import matplotlib.pyplot as plt"
   ]
  },
  {
   "cell_type": "code",
   "execution_count": null,
   "metadata": {},
   "outputs": [],
   "source": [
    "# circuit parameters, unit: Hz\n",
    "fQ1 = 4.855*1e9\n",
    "fQ2 = 4.759*1e9\n",
    "fbus = 6.704*1e9\n",
    "\n",
    "alpha1 = -301.7*1e6\n",
    "alpha2 = -302.5*1e6\n",
    "g1 = 67.3*1e6\n",
    "g2 = 67.3*1e6"
   ]
  },
  {
   "cell_type": "code",
   "execution_count": null,
   "metadata": {},
   "outputs": [],
   "source": [
    "# detuning frequency\n",
    "delta12 = fQ1 - fQ2\n",
    "\n",
    "# effective coupling\n",
    "J = g1*g2*(fQ1+fQ2-2*fbus)/(2*(fQ1-fbus)*(fQ2-fbus))\n",
    "\n",
    "nu_ZZ = -2*J**2*(alpha1+alpha2)/((delta12+alpha1)*(delta12+alpha2))\n",
    "\n",
    "print(f'The effective coupling J: {J/1e6:.3F} MHz and the ZZ coupling: {nu_ZZ/1e3:.3F} kHz')"
   ]
  },
  {
   "cell_type": "markdown",
   "metadata": {},
   "source": [
    "From the definition of the ZZ coupling ($\\nu_{ZZ}$), we can calculate $\\nu_{ZZ}$ by numerically diagonalizing the Hamiltonian as \n",
    "\n",
    "$\\nu_{ZZ} = \\tilde{\\omega}_{11} + \\tilde{\\omega}_{00} - \\tilde{\\omega}_{10} - \\tilde{\\omega}_{01},$\n",
    "\n",
    "where $\\tilde{\\omega}_{ij}$ is the dressed state frequency (eigenfrequency) when qubit 1 is in $i$ state and qubit 2 is in $j$ state."
   ]
  },
  {
   "cell_type": "code",
   "execution_count": null,
   "metadata": {},
   "outputs": [],
   "source": [
    "# circuit parameters, unit: Hz\n",
    "fQ1 = 4.855*1e9\n",
    "fQ2 = 4.759*1e9\n",
    "fbus = 6.704*1e9\n",
    "\n",
    "alpha1 = -301.7*1e6\n",
    "alpha2 = -302.5*1e6\n",
    "g1 = 67.3*1e6\n",
    "g2 = 67.3*1e6"
   ]
  },
  {
   "cell_type": "code",
   "execution_count": null,
   "metadata": {},
   "outputs": [],
   "source": [
    "# Hamiltonian with h=1 assumption\n",
    "# order number\n",
    "N = 3\n",
    "\n",
    "# qubit annihilation oeprators\n",
    "a1 = tensor(destroy(N), qeye(N), qeye(N))\n",
    "a2 = tensor(qeye(N), destroy(N), qeye(N))\n",
    "# resonator annihilation operators\n",
    "br = tensor(qeye(N), qeye(N), destroy(N))\n",
    "\n",
    "# Hamiltonian\n",
    "H0 = (fQ1*a1.dag()*a1 + alpha1/2*a1.dag()*a1*(a1.dag()*a1-1) +\n",
    "      fQ2*a2.dag()*a2 + alpha2/2*a2.dag()*a2*(a2.dag()*a2-1) +\n",
    "      fbus*br.dag()*br + \n",
    "      g1*(br*a1.dag()+br.dag()*a1) + g2*(br*a2.dag()+br.dag()*a2))\n",
    "\n",
    "# unitary diagonalization and dressed state frequency\n",
    "H0diag = np.sort(np.linalg.eigh(H0)[0])\n",
    "eigfreqs = []\n",
    "for j in range(len(H0diag)):\n",
    "      eigfreqs.append(H0diag[j]-H0diag[0])\n",
    "\n",
    "# f_110 - f_010 - f_100 + f_000 \n",
    "with np.printoptions(precision=3, suppress=True):\n",
    "      print(f'H_diag: {np.array(eigfreqs)},\\n\\nVzz (numerical): {(eigfreqs[6]+eigfreqs[0]-eigfreqs[1]-eigfreqs[2])/1e3:.3F} kHz')"
   ]
  },
  {
   "cell_type": "markdown",
   "metadata": {},
   "source": [
    "# LAB HOMEWORK\n",
    "\n",
    "### Directly coupled transmon qubit system simulations. You should achieve the target parameters within 5\\%. The overall circuit layout, electric field distributions, simulations settings in ANSYS (including $L_J, C_J$ values), and the convergence plot vs. adaptive pass should be attached to the report.\n",
    "\n",
    "1. Sweep $L_{J1}$ and $L_{J2}$ for two qubits. Calculate $\\omega_{q1}/2\\pi, \\omega_{q2}/2\\pi$, and $\\chi_{12}/2\\pi$. If possible, compare the results using the analytic equations.\n",
    "2. Sweep the length of a bus resonator. Calculate $\\omega_{q1}/2\\pi, \\omega_{q2}/2\\pi, \\omega_{\\mathrm{bus}}/2\\pi$, and $\\chi_{12}/2\\pi$. If possible, compare the results using the analytic equations.\n",
    "2. Design two qubits, coupled via a CPW resonator bus, to have $\\omega_{q1}/2\\pi=4.5$ GHz, $\\omega_{q2}/2\\pi=5$ GHz, and $\\chi_{12}/2\\pi<30$ kHz from the `EPR` method. You have to modify the geometric features of a transmon qubit, a bus resonator, and a Josephson junction.\n",
    "3. Design two qubits, coupled via a CPW resonator bus, to have $\\omega_{q1}/2\\pi=4.5$ GHz, $\\omega_{q2}/2\\pi=5$ GHz, and $\\chi_{12}/2\\pi<30$ kHz from the `new LOM` method. You have to modify the geometric features of a transmon qubit, a bus resonator, and a Josephson junction."
   ]
  }
 ],
 "metadata": {
  "kernelspec": {
   "display_name": "quantum",
   "language": "python",
   "name": "python3"
  },
  "language_info": {
   "codemirror_mode": {
    "name": "ipython",
    "version": 3
   },
   "file_extension": ".py",
   "mimetype": "text/x-python",
   "name": "python",
   "nbconvert_exporter": "python",
   "pygments_lexer": "ipython3",
   "version": "3.11.3"
  }
 },
 "nbformat": 4,
 "nbformat_minor": 2
}
