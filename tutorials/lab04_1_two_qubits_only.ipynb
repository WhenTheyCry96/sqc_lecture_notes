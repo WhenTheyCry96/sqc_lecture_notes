{
 "cells": [
  {
   "cell_type": "markdown",
   "metadata": {},
   "source": [
    "# Lab 04_1: Qubit-Resonator System (Planar Chip)\n",
    "\n",
    "### developed by Seong Hyeon Park (pajoheji0909@snu.ac.kr)\n",
    "\n",
    "### Please find the attached homework at the end of this tutorial code"
   ]
  }
 ],
 "metadata": {
  "language_info": {
   "name": "python"
  }
 },
 "nbformat": 4,
 "nbformat_minor": 2
}
