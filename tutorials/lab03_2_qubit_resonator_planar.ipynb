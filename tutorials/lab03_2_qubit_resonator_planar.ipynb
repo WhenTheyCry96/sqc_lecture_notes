{
 "cells": [
  {
   "cell_type": "markdown",
   "metadata": {},
   "source": [
    "# Lab 03_2: Qubit-Resonator System (Planar Chip)\n",
    "\n",
    "### developed by Seong Hyeon Park (pajoheji0909@snu.ac.kr)\n",
    "\n",
    "### Please find the attached homework at the end of this tutorial code"
   ]
  },
  {
   "cell_type": "code",
   "execution_count": null,
   "metadata": {},
   "outputs": [],
   "source": [
    "import warnings\n",
    "warnings.filterwarnings('ignore')"
   ]
  },
  {
   "cell_type": "code",
   "execution_count": null,
   "metadata": {},
   "outputs": [],
   "source": [
    "from qiskit_metal import designs, MetalGUI, Dict\n",
    "\n",
    "design = designs.DesignPlanar()\n",
    "design.overwrite_enabled = True"
   ]
  },
  {
   "cell_type": "code",
   "execution_count": null,
   "metadata": {},
   "outputs": [],
   "source": [
    "# set the overall layout size (X)\n",
    "design.chips.main.size.size_x = '6mm'\n",
    "# set the overall layout size (Y)\n",
    "design.chips.main.size.size_y = '6mm'\n",
    "# set the substrate thickness (Z)\n",
    "design.chips.main.size.size_z = '-400um'"
   ]
  },
  {
   "cell_type": "markdown",
   "metadata": {},
   "source": [
    "## start GUI of Qiskit-Metal and ANSYS HFSS"
   ]
  },
  {
   "cell_type": "code",
   "execution_count": null,
   "metadata": {},
   "outputs": [],
   "source": [
    "# start GUI\n",
    "gui = MetalGUI(design)"
   ]
  },
  {
   "cell_type": "code",
   "execution_count": null,
   "metadata": {},
   "outputs": [],
   "source": [
    "hfss = design.renderers.hfss\n",
    "# start ANSYS HFSS\n",
    "hfss.start()"
   ]
  },
  {
   "cell_type": "code",
   "execution_count": null,
   "metadata": {},
   "outputs": [],
   "source": [
    "import pyEPR as epr\n",
    "import qiskit_metal as metal"
   ]
  },
  {
   "cell_type": "markdown",
   "metadata": {},
   "source": [
    "# design your qubit and resonator for readout!"
   ]
  },
  {
   "cell_type": "code",
   "execution_count": null,
   "metadata": {},
   "outputs": [],
   "source": [
    "# for readout resonator (CPW)\n",
    "from qiskit_metal.qlibrary.tlines.meandered import RouteMeander\n",
    "from qiskit_metal.qlibrary.terminations.open_to_ground import OpenToGround\n",
    "from qiskit_metal.qlibrary.terminations.short_to_ground import ShortToGround\n",
    "\n",
    "# there are various in-built qubit types in Qiskit-Metal, you should try it by yourself\n",
    "from qiskit_metal.qlibrary.qubits.transmon_pocket_cl import TransmonPocketCL"
   ]
  },
  {
   "cell_type": "code",
   "execution_count": null,
   "metadata": {},
   "outputs": [],
   "source": [
    "design.delete_all_components()\n",
    "\n",
    "# you can directly write down the options\n",
    "# qubit\n",
    "q1 = TransmonPocketCL(design, 'Q1', \n",
    "                      options = dict(pad_width = '425 um', pocket_height = '650um',\n",
    "                                     connection_pads=dict(readout = dict(loc_W=+1,loc_H=+1, pad_width='200um'))\n",
    "                                     )\n",
    "                      )\n",
    "\n",
    "# open to ground for quarter-wavelength CPW resonator\n",
    "otg = OpenToGround(design, 'open_to_ground', options=dict(pos_x='1.75mm',  pos_y='0um', orientation='0'))\n",
    "\n",
    "# CPW resonator\n",
    "readout = RouteMeander(design, 'readout',  Dict(total_length='6 mm',\n",
    "                                                hfss_wire_bonds = True,\n",
    "                                                fillet='90 um',\n",
    "                                                lead = dict(start_straight='100um'),\n",
    "                                                pin_inputs=Dict(start_pin=Dict(component='Q1', pin='readout'), end_pin=Dict(component='open_to_ground', pin='open'))\n",
    "                                                )\n",
    "                       )\n",
    "\n",
    "gui.rebuild()\n",
    "gui.autoscale()\n",
    "\n",
    "# take a screenshot of the GUI\n",
    "gui.screenshot()"
   ]
  },
  {
   "cell_type": "markdown",
   "metadata": {},
   "source": [
    "# Realistic Single-Qubit Device Design with Qubit Control Line and Two-Port Readout Transmission Line"
   ]
  },
  {
   "cell_type": "markdown",
   "metadata": {},
   "source": [
    "### A device should have signal input/output pads for qubit readout as well as qubit control\n",
    "### Refer to below papers for further details:\n",
    "\n",
    "* [two-port readout with individual qubit control line] L DiCarlo *et al.,* \"Demonstration of two-qubit algorithms with a superconducting quantum processor,\" *Nature,* **460**, 240-244 (2009) DOI: https://doi.org/10.1038/nature08121\n",
    "* [single-port readout with individual qubit control line] Y Sunada *et al.,* \"Photon-Noise-Tolerant Dispersive Readout of a Superconducting Qubit Using a Nonlinear Purcell Filter,\" *PRX Quantum,* **5**, 010307 (2024) DOI: https://doi.org/10.1103/PRXQuantum.5.010307\n",
    "\n",
    "In case of single-port readout protocol, you should have `microwave circulators` to separate the input readout pulse from the reflected readout pulse"
   ]
  },
  {
   "cell_type": "code",
   "execution_count": null,
   "metadata": {},
   "outputs": [],
   "source": [
    "# additional package loads for readout transmission line design\n",
    "from qiskit_metal.qlibrary.tlines.straight_path import RouteStraight\n",
    "from qiskit_metal.qlibrary.couplers.coupled_line_tee import CoupledLineTee\n",
    "from qiskit_metal.qlibrary.terminations.launchpad_wb_driven import LaunchpadWirebondDriven\n",
    "\n",
    "# built-in transmon qubit design\n",
    "from qiskit_metal.qlibrary.qubits.transmon_pocket_6 import TransmonPocket6"
   ]
  },
  {
   "cell_type": "code",
   "execution_count": null,
   "metadata": {},
   "outputs": [],
   "source": [
    "# transmon qubit's Josephson junction parameters\n",
    "tr_Ljj = '13 nH' ; tr_Cjj = '2 fF'\n",
    "# CPW characteristic parameters\n",
    "cpw_w = '10 um'; cpw_g = '6 um'\n",
    "# readout resonator parameters\n",
    "res1_l = '3.5 mm'; res1_coup_l = '600 um'; res1_coup_g = '5 um'\n",
    "\n",
    "design.delete_all_components()\n",
    "\n",
    "# options for realistic signal input/output port (NOTE: width of the launchpad should be larger than 300 um in practice)\n",
    "launch_options = dict(\n",
    "    chip='main', \n",
    "    pos_x=\"-2.12 mm\", \n",
    "    pos_y=\"0mm\",  \n",
    "    orientation='360', \n",
    "    lead_length='0um',\n",
    "    pad_width='300um',\n",
    "    pad_height='300um',\n",
    "    pad_gap='180um',\n",
    "    taper_height='300um'\n",
    ")\n",
    "RP1 = LaunchpadWirebondDriven(design, 'RP1', options = launch_options)\n",
    "\n",
    "# options for realistic signal input/output port (NOTE: width of the launchpad should be larger than 300 um in practice)\n",
    "launch_options = dict(\n",
    "    chip='main', \n",
    "    pos_x=\"2.12 mm\", \n",
    "    pos_y=\"0mm\",  \n",
    "    orientation='180', \n",
    "    lead_length='30um',\n",
    "    pad_width='300um',\n",
    "    pad_height='300um',\n",
    "    pad_gap='180um',\n",
    "    taper_height='300um'\n",
    ")\n",
    "RP2 = LaunchpadWirebondDriven(design, 'RP2', options = launch_options)\n",
    "\n",
    "# options for built-in capacitive coupling geometry\n",
    "# you can draw the capacitively coupled geometry using the open/short_to_ground components (see lab01_3)\n",
    "clt_options = dict(\n",
    "    chip='main', \n",
    "    pos_x=\"0mm\", \n",
    "    pos_y=\"0mm\",\n",
    "    prime_width=cpw_w,\n",
    "    prime_gap=cpw_g,\n",
    "    second_width=cpw_w,\n",
    "    second_gap=cpw_g,\n",
    "    coupling_space=res1_coup_g,\n",
    "    coupling_length=res1_coup_l,\n",
    "    down_length='100um',\n",
    "    fillet='40um',\n",
    "    mirror=False,\n",
    "    open_termination=False,\n",
    "    hfss_wire_bonds = False\n",
    ")\n",
    "CLT1 = CoupledLineTee(design, 'CLT1', options = clt_options)\n",
    "\n",
    "# draw the readout transmission line (part 1)\n",
    "route_options = Dict(hfss_wire_bonds = True,\n",
    "                     pin_inputs=Dict(start_pin=Dict(component='RP1', pin='tie'),\n",
    "                                     end_pin=Dict(component='CLT1',pin='prime_start')),\n",
    "                     trace_width=cpw_w, trace_gap=cpw_g)\n",
    "TL1 = RouteStraight(design, 'TL1', options=route_options)\n",
    "\n",
    "# draw the readout transmission line (part 2)\n",
    "route_options = Dict(hfss_wire_bonds = True,\n",
    "                     pin_inputs=Dict(start_pin=Dict(component='CLT1', pin='prime_end'),\n",
    "                                     end_pin=Dict(component='RP2',pin='tie')),\n",
    "                     trace_width=cpw_w, trace_gap=cpw_g)\n",
    "TL2 = RouteStraight(design, 'TL2', options=route_options)\n",
    "\n",
    "# draw transmon qubit\n",
    "tr_options = dict(pos_x=\"0mm\", pos_y=\"-1.5 mm\", orientation = 180,\n",
    "                  pad_width = '600um', pad_height = '60um', pad_gap = '30um',\n",
    "                  pocket_height = '300um', pocket_width = '700um', inductor_width = '10um',\n",
    "                  connection_pads=dict(readout = dict(loc_W=0, loc_H=-1, \n",
    "                                                      pad_height='20um', pad_width='200um', pad_gap='20um', pad_shift='0um')),\n",
    "                  hfss_inductance = tr_Ljj,\n",
    "                  hfss_capacitance = tr_Cjj\n",
    "                 )\n",
    "Q1 = TransmonPocket6(design, 'Q1', options = tr_options)\n",
    "\n",
    "# draw quarter-wavelength CPW resonator for dispersive qubit readout\n",
    "route_options = Dict(chip='main',\n",
    "                     hfss_wire_bonds = True,\n",
    "                     pin_inputs=Dict(start_pin=Dict(component='Q1',pin='readout'),\n",
    "                                     end_pin=Dict(component='CLT1',pin='second_end')),\n",
    "                     trace_width=cpw_w,\n",
    "                     trace_gap=cpw_g,\n",
    "                     total_length=res1_l,\n",
    "                     fillet=\"80um\",\n",
    "                     meander = dict(spacing = '200um', asymmetry = '0um'),\n",
    "                     lead = dict(start_straight = '100um', end_straight = '50 um'))\n",
    "RR1 = RouteMeander(design, 'RR1', options=route_options)\n",
    "\n",
    "# options for realistic qubit control line port\n",
    "launch_options = dict(chip='main', pos_x=\"0mm\", pos_y=\"-2.38mm\", orientation='90', \n",
    "                      lead_length='0um',\n",
    "                      pad_width='200um', pad_height='200um', pad_gap='120um', taper_height='200um'\n",
    "                      )\n",
    "QCTRLP1 = LaunchpadWirebondDriven(design, 'QCTRLP1', options = launch_options)\n",
    "\n",
    "OTG = OpenToGround(design, name='OTG1', options=dict(pos_x='0mm',  pos_y='-1.7 mm', orientation='90'))\n",
    "\n",
    "route_options = Dict(hfss_wire_bonds = True,\n",
    "                     pin_inputs=Dict(start_pin=Dict(component='OTG1', pin='open'),\n",
    "                                     end_pin=Dict(component='QCTRLP1',pin='tie')),\n",
    "                     trace_width=cpw_w, trace_gap=cpw_g)\n",
    "QCTRLR1 = RouteStraight(design, 'QCTRLR1', options=route_options)\n",
    "\n",
    "gui.rebuild()\n",
    "gui.autoscale()"
   ]
  },
  {
   "cell_type": "markdown",
   "metadata": {},
   "source": [
    "# method (1): Energy Participation Ratio (EPR)"
   ]
  },
  {
   "cell_type": "code",
   "execution_count": null,
   "metadata": {},
   "outputs": [],
   "source": [
    "from qiskit_metal.analyses.quantization import EPRanalysis\n",
    "\n",
    "# project name\n",
    "proj_name = \"lab03_transmon_readout\"\n",
    "\n",
    "eig_s = EPRanalysis(design, \"hfss\")\n",
    "hfss = eig_s.sim.renderer\n",
    "\n",
    "try:\n",
    "    hfss.start()\n",
    "except:\n",
    "    hfss.activate_design(proj_name)"
   ]
  },
  {
   "cell_type": "code",
   "execution_count": null,
   "metadata": {},
   "outputs": [],
   "source": [
    "from qiskit_metal.analyses.quantization import EPRanalysis\n",
    "\n",
    "# define the EPR analysis class\n",
    "eig_s = EPRanalysis(design, \"hfss\")\n",
    "\n",
    "# define the renderer program for the eigenmode simulation\n",
    "hfss = eig_s.sim.renderer\n",
    "\n",
    "# try-except to avoid common(?) error during the HFSS rendering\n",
    "try:\n",
    "    hfss.start()\n",
    "except:\n",
    "    hfss.activate_design(proj_name)\n",
    "\n",
    "# NOTE: you should define the junction in HFSS\n",
    "eig_s.setup.junctions.jj.rect = 'JJ_rect_Lj_Q1_rect_jj'\n",
    "eig_s.setup.junctions.jj.line = 'JJ_Lj_Q1_rect_jj_'\n",
    "\n",
    "# define the setup\n",
    "em_s = eig_s.sim.setup\n",
    "em_s.name = \"setup_custom\"\n",
    "\n",
    "# minimum searching frequency\n",
    "em_s.min_freq_ghz = 3\n",
    "\n",
    "# target eigenmode number\n",
    "# NOTE: now you have two components... you should find 'two' eigenmodes\n",
    "em_s.n_modes = 2\n",
    "\n",
    "# maximum pass number\n",
    "em_s.max_passes = 15\n",
    "\n",
    "# criteria for eigenmode simulation convergence: maximum delta F_eigen between passes < value\n",
    "em_s.max_delta_f = 0.5\n",
    "\n",
    "# simulation minimum converged passes \n",
    "em_s.min_converged = 2\n",
    "\n",
    "# simulation order 0: point, 1: line, 2: face\n",
    "em_s.basis_order = 1\n",
    "\n",
    "# Design variables can also be added in for direct simulation sweeps. Here, we have to set the junction inductance and capacitance\n",
    "em_s.vars = Dict({'Lj': tr_Ljj, 'Cj': tr_Cjj})\n"
   ]
  },
  {
   "cell_type": "code",
   "execution_count": null,
   "metadata": {},
   "outputs": [],
   "source": [
    "eig_s.sim._render(name=proj_name,                         # design name\n",
    "                  selection = [],                         # if None --> all\n",
    "                  solution_type='eigenmode',              # NOTE: case sensitive\n",
    "                  vars_to_initialize=em_s.vars,           # set variables\n",
    "                  open_pins=[],                           # set open pins\n",
    "                  port_list=[],                           # set ports, for eigenmode simulations --> R = 50 Ohm boundary conditions \n",
    "                  box_plus_buffer = False)                # if False --> set the overall layout as you defined above. If True --> set marginal chip sizes as you set here."
   ]
  },
  {
   "cell_type": "code",
   "execution_count": null,
   "metadata": {},
   "outputs": [],
   "source": [
    "# mesh setting name, components, maximum mesh length\n",
    "hfss.modeler.mesh_length('qubitpad_mesh_setting', \n",
    "                         ['pad_bot_Q1', 'pad_top_Q1', 'readout_connector_pad_Q1'], \n",
    "                         MaxLength='0.1 mm')\n",
    "\n",
    "hfss.modeler.mesh_length('cpw_mesh_setting', \n",
    "                         ['trace_RR1', 'prime_cpw_CLT1', 'second_cpw_CLT1'], \n",
    "                         MaxLength='0.05 mm')"
   ]
  },
  {
   "cell_type": "code",
   "execution_count": null,
   "metadata": {},
   "outputs": [],
   "source": [
    "eig_s.sim._analyze()"
   ]
  },
  {
   "cell_type": "code",
   "execution_count": null,
   "metadata": {},
   "outputs": [],
   "source": [
    "pinfo = hfss.pinfo\n",
    "pinfo.junctions['jj'] = {'Lj_variable': 'Lj', 'rect': 'JJ_rect_Lj_Q1_rect_jj', 'line': 'JJ_Lj_Q1_rect_jj_',  'Cj_variable': 'Cj'}\n",
    "pinfo.validate_junction_info() # Check that valid names of variables and objects have been supplied"
   ]
  },
  {
   "cell_type": "code",
   "execution_count": null,
   "metadata": {},
   "outputs": [],
   "source": [
    "eprd = epr.DistributedAnalysis(pinfo)\n",
    "eprd.do_EPR_analysis()"
   ]
  },
  {
   "cell_type": "code",
   "execution_count": null,
   "metadata": {},
   "outputs": [],
   "source": [
    "epra = epr.QuantumAnalysis(eprd.data_filename)\n",
    "epra.analyze_all_variations(cos_trunc = 8, fock_trunc = 10)"
   ]
  },
  {
   "cell_type": "markdown",
   "metadata": {},
   "source": [
    "# Method (2): Capacitance Analysis and LOM derivation using the analysis package"
   ]
  },
  {
   "cell_type": "code",
   "execution_count": null,
   "metadata": {},
   "outputs": [],
   "source": [
    "from qiskit_metal.analyses.quantization import LOManalysis\n",
    "c1 = LOManalysis(design, \"q3d\")"
   ]
  },
  {
   "cell_type": "code",
   "execution_count": null,
   "metadata": {},
   "outputs": [],
   "source": [
    "# example: update single setting\n",
    "c1.sim.setup.max_passes = 20\n",
    "c1.sim.setup.freq_ghz = 5\n",
    "\n",
    "# example: update multiple settings\n",
    "c1.sim.setup_update(solution_order = 'Medium', auto_increase_solution_order = 'False')\n",
    "\n",
    "c1.sim.setup"
   ]
  },
  {
   "cell_type": "code",
   "execution_count": null,
   "metadata": {},
   "outputs": [],
   "source": [
    "# you should define the open terminations, where coupling structures of a qubit end\n",
    "c1.sim.run(components=['Q1'], open_terminations=[('Q1', 'readout')])\n",
    "\n",
    "# c1.setup.run <- direct access\n",
    "c1.sim.print_run_args()"
   ]
  },
  {
   "cell_type": "code",
   "execution_count": null,
   "metadata": {},
   "outputs": [],
   "source": [
    "c1.sim.capacitance_matrix"
   ]
  },
  {
   "cell_type": "code",
   "execution_count": null,
   "metadata": {},
   "outputs": [],
   "source": [
    "# NOTE: you should define the same values for Josephson junction parameters!\n",
    "c1.setup.junctions = Dict({'Lj': 13, 'Cj': 2}) # Lj unit: nH and Cj unit: fF\n",
    "\n",
    "# NOTE: you have to define the readout resonator's frequency!\n",
    "c1.setup.freq_readout = 6.33 # unit: GHz\n",
    "c1.setup.freq_bus = []      # if there is additional coupling bus resonators, you should define their frequencies\n",
    "\n",
    "c1.run_lom()\n",
    "c1.lumped_oscillator_all"
   ]
  },
  {
   "cell_type": "markdown",
   "metadata": {},
   "source": [
    "# Method (3): New LOM analysis"
   ]
  },
  {
   "cell_type": "code",
   "execution_count": null,
   "metadata": {},
   "outputs": [],
   "source": [
    "import scqubits as scq\n",
    "\n",
    "from scipy.constants import speed_of_light as c_light\n",
    "from qiskit_metal.analyses.quantization.lumped_capacitive import load_q3d_capacitance_matrix\n",
    "from qiskit_metal.analyses.quantization.lom_core_analysis import CompositeSystem, Cell, Subsystem, QuantumSystemRegistry"
   ]
  },
  {
   "cell_type": "code",
   "execution_count": null,
   "metadata": {},
   "outputs": [],
   "source": [
    "QuantumSystemRegistry.registry()"
   ]
  },
  {
   "cell_type": "markdown",
   "metadata": {},
   "source": [
    "### 1. load transmon cell Q3d simulation results and set cell objects corresponding to the capacitance simulation results \n",
    "Loading the Maxwell capacitance matrices for the design from ANSYS Q3D\n",
    "\n",
    "For a simple introduction on Maxwell capacitance matrix, check out the following resources:\n",
    "https://www.fastfieldsolvers.com/Papers/The_Maxwell_Capacitance_Matrix_WP110301_R02.pdf\n",
    "\n",
    "The following three parameters, `ind_dict`, `jj_dict`, `cj_dict`, all have the same structure. Each is a dictionary where the keys are tuples, giving the nodes that a junction is in between, and the values specifying the relevant values associated with the junction. `ind_dict` lets you specify the junction inductance in nH; `jj_dict` specifies the Josephson junction name (you can give the junction any name you wish; just need to be consistent with the name); `cj_dict` specifies the junction capacitance in fF."
   ]
  },
  {
   "cell_type": "code",
   "execution_count": null,
   "metadata": {},
   "outputs": [],
   "source": [
    "# cell 1: transmon qubit Q1\n",
    "\n",
    "opt1 = dict(node_rename = {'readout_connector_pad_Q1': 'coupler_RR1'}, \n",
    "            cap_mat = c1.sim.capacitance_matrix,\n",
    "            ind_dict = {('pad_top_Q1', 'pad_bot_Q1'):13},  # junction inductance in nH\n",
    "            jj_dict = {('pad_top_Q1', 'pad_bot_Q1'):'j1'},\n",
    "            cj_dict = {('pad_top_Q1', 'pad_bot_Q1'):2},    # junction capacitance in fF\n",
    "            )\n",
    "\n",
    "cell_1 = Cell(opt1)"
   ]
  },
  {
   "cell_type": "markdown",
   "metadata": {},
   "source": [
    "### 2. Create subsystems\n",
    "#### Creating the four subsystems, corresponding to the qubit-readout resonator\n",
    "\n",
    "`Subsystem` takes three required arguments. The four currently supported system types are `TRANSMON`, `FLUXONIUM`, `TL_RESONATOR` (transmission line resonator) and `LUMPED_RESONATOR`. `nodes` lets you specify which node the subsystem should be mapped to in the cells. They should be consistent with the node names you have given previously. `q_opts` lets specify any optional parameters you want to give. For example, for qubits, you can provide `scqubits` parameters such as `ncut`, `truncated_dim` here."
   ]
  },
  {
   "cell_type": "code",
   "execution_count": null,
   "metadata": {},
   "outputs": [],
   "source": [
    "# subsystem 1: transmon qubit Q1\n",
    "transmon_Q1 = Subsystem(name='Q1', sys_type='TRANSMON', nodes=['j1'])\n",
    "\n",
    "# subsystem 2: readout resonator RR1\n",
    "q_opts = dict(f_res = 6.33,           # resonator dressed frequency in GHz\n",
    "              Z0 = 50,                # characteristic impedance in Ohm\n",
    "              vp = 0.404314 * c_light # phase velocity \n",
    ")\n",
    "res_RR1 = Subsystem(name='RR1', sys_type='TL_RESONATOR', nodes=['coupler_RR1'], q_opts=q_opts)"
   ]
  },
  {
   "cell_type": "markdown",
   "metadata": {},
   "source": [
    "### 3. Create the composite system from the cells and the subsystems\n",
    "\n",
    "The LOM analysis will automatically remove all non-dynamic nodes. These are nodes that are either exclusively connected to only capacitors or only inductors and are not true degrees of freedom. \n",
    "\n",
    "please check out https://arxiv.org/pdf/2103.10344.pdf or https://cpb-us-w2.wpmucdn.com/campuspress.yale.edu/dist/2/3627/files/2020/10/Vool_Intro_quantum_electromagnetic_circuits.pdf for more information on this\n",
    "\n",
    "Since we didn't (and didn't have to) simulate the readout resonator, the node, `coupler_RR1`, connected only to other nodes capacitively as specified by the Maxwell capacitance matrices, would be eliminated. But they are actually dynamic nodes, connected to the inductors (not simulated) of the respective transmission lines and correspond to subsystems that we want to include in the Hamiltonian of the composite system, hence we list them as nodes to force keep with the parameter `nodes_force_keep`."
   ]
  },
  {
   "cell_type": "code",
   "execution_count": null,
   "metadata": {},
   "outputs": [],
   "source": [
    "composite_sys = CompositeSystem(subsystems=[transmon_Q1, res_RR1], \n",
    "                                cells=[cell_1], \n",
    "                                grd_node='ground_main_plane',\n",
    "                                nodes_force_keep=['coupler_RR1']\n",
    "                                )"
   ]
  },
  {
   "cell_type": "markdown",
   "metadata": {},
   "source": [
    "The `circuitGraph` object encapsulates the lumped model circuit analysis (i.e., LOM analysis) and contain the intermediate as well as final L and C matrices, their inverses needed to construct the Hamiltonian of the composite system. For more details on the meaning and calculation of these matrices, check out https://arxiv.org/pdf/2103.10344.pdf.\n",
    "\n",
    "Just to note that you can use the analysis without needing to know any detail about this object."
   ]
  },
  {
   "cell_type": "code",
   "execution_count": null,
   "metadata": {},
   "outputs": [],
   "source": [
    "cg = composite_sys.circuitGraph()\n",
    "print(cg)"
   ]
  },
  {
   "cell_type": "markdown",
   "metadata": {},
   "source": [
    "### 4. Generate the hilberspace from the composite system, leveraging the scqubits package"
   ]
  },
  {
   "cell_type": "code",
   "execution_count": null,
   "metadata": {},
   "outputs": [],
   "source": [
    "hilbertspace = composite_sys.create_hilbertspace()\n",
    "print(hilbertspace)"
   ]
  },
  {
   "cell_type": "markdown",
   "metadata": {},
   "source": [
    "`add_interaction()` adds the interaction terms between the subsystems. Currently, capacitive coupling is supported (which is extracted by from off-diagonal elements in the C matrices, see *eqn 12, 13* in https://arxiv.org/pdf/2103.10344.pdf ) and contribute to the interaction."
   ]
  },
  {
   "cell_type": "code",
   "execution_count": null,
   "metadata": {},
   "outputs": [],
   "source": [
    "hilbertspace = composite_sys.add_interaction()\n",
    "hilbertspace.hamiltonian()"
   ]
  },
  {
   "cell_type": "markdown",
   "metadata": {},
   "source": [
    "### 5. Print the results\n",
    "\n",
    "Print the calculated Hamiltonian parameters from diagonalized composite system Hamiltonian.\n",
    "\n",
    "The diagonal elements of the $\\chi$ matrix are the anharmonicities of the respective subsystems and the off-diagonal the dispersive shifts between them. "
   ]
  },
  {
   "cell_type": "code",
   "execution_count": null,
   "metadata": {},
   "outputs": [],
   "source": [
    "hamiltonian_results = composite_sys.hamiltonian_results(hilbertspace, evals_count=30)"
   ]
  },
  {
   "cell_type": "markdown",
   "metadata": {},
   "source": [
    "The $\\chi$'s between the subsystems are based on the coupling strengths, $\\it{g}$'s between them (which are computed using the coupling capacitance (currently capacitive coupling is supported) and zero point fluctuations of the subsystem's charge operator at the coupling location)."
   ]
  },
  {
   "cell_type": "code",
   "execution_count": null,
   "metadata": {},
   "outputs": [],
   "source": [
    "composite_sys.compute_gs()"
   ]
  },
  {
   "cell_type": "markdown",
   "metadata": {},
   "source": [
    "# LAB HOMEWORK\n",
    "\n",
    "### Transmon qubit-resonator system simulations. You should achieve the target parameters within 5\\%. The overall circuit layout, electric field distributions, simulations settings in ANSYS (including $L_J, C_J$ values), and the convergence plot vs. adaptive pass should be attached to the report.\n",
    "\n",
    "1. Design a double pad qubit and a readout resonator to have $\\omega_q/2\\pi=4.5$ GHz, $\\omega_r/2\\pi=6.5$ GHz, $\\chi/2\\pi=5$ MHz from the `EPR` method. You have to modify the geometric features of a transmon qubit and a readout resonator.\n",
    "1. Design a Xmon qubit (`from qiskit_metal.qlibrary.qubits.transmon_cross import TransmonCross`) and a readout resonator to have $\\omega_q/2\\pi=4.5$ GHz, $\\omega_r/2\\pi=6.5$ GHz, $\\chi/2\\pi=5$ MHz from the `EPR` method. You have to modify the geometric features of a transmon qubit and a readout resonator (also Josephson junction parameters, if necessary).\n",
    "2. Modify the substrate material into `sapphire` with a dielectric constant of `10`. Then, design a double pad qubit and a readout resonator to have $\\omega_q/2\\pi=4.5$ GHz, $\\omega_r/2\\pi=6.0$ GHz, $\\chi/2\\pi=2$ MHz from the `EPR` method. You have to modify the geometric features of a transmon qubit and a readout resonator.\n",
    "3. Design a double pad qubit and a readout resonator to have $\\omega_q/2\\pi=5.0$ GHz, while varying the readout resonator frequency $\\omega_r$ to obtain $\\chi/2\\pi=5$ MHz from the `LOM` and `NEW LOM` methods. You have to modify the geometric features of transmon qubit and Josephson junction parameters."
   ]
  }
 ],
 "metadata": {
  "kernelspec": {
   "display_name": "quantum",
   "language": "python",
   "name": "python3"
  },
  "language_info": {
   "codemirror_mode": {
    "name": "ipython",
    "version": 3
   },
   "file_extension": ".py",
   "mimetype": "text/x-python",
   "name": "python",
   "nbconvert_exporter": "python",
   "pygments_lexer": "ipython3",
   "version": "3.11.3"
  }
 },
 "nbformat": 4,
 "nbformat_minor": 2
}
