{
 "cells": [
  {
   "cell_type": "markdown",
   "metadata": {},
   "source": [
    "# Lab 03_1: Qubit-Resonator System (3D Cavity)\n",
    "\n",
    "### modified by Seong Hyeon Park (pajoheji0909@snu.ac.kr)\n",
    "### original code from pyEPR Tutorial_notebooks (ZK Minev: https://github.com/zlatko-minev/pyEPR)\n",
    "\n",
    "### Please find the attached homework at the end of this tutorial code"
   ]
  },
  {
   "cell_type": "code",
   "execution_count": null,
   "metadata": {},
   "outputs": [],
   "source": [
    "import warnings\n",
    "warnings.filterwarnings('ignore')"
   ]
  },
  {
   "cell_type": "code",
   "execution_count": null,
   "metadata": {},
   "outputs": [],
   "source": [
    "%load_ext autoreload\n",
    "%autoreload 2\n",
    "\n",
    "import pyEPR as epr"
   ]
  },
  {
   "cell_type": "markdown",
   "metadata": {},
   "source": [
    "## connect to the example HFSS project file"
   ]
  },
  {
   "cell_type": "code",
   "execution_count": null,
   "metadata": {},
   "outputs": [],
   "source": [
    "# NOTE: you have to correctly set the project path\n",
    "project_path =  './' \n",
    "# project \"file name\"\n",
    "project_name = 'pyEPR_tutorial1'\n",
    "# project \"design name\"\n",
    "design_name  = '1. single_transmon'\n",
    "\n",
    "pinfo = epr.ProjectInfo(project_path = project_path,\n",
    "                        project_name = project_name,\n",
    "                        design_name = design_name)"
   ]
  },
  {
   "cell_type": "code",
   "execution_count": null,
   "metadata": {},
   "outputs": [],
   "source": [
    "# Qubit junction\n",
    "\n",
    "Lj_value = '12 nH'\n",
    "Cj_value = '2 fF'\n",
    "\n",
    "pinfo.design.set_variable('Lj_1', Lj_value); pinfo.design.set_variable('Cj_1', Cj_value)\n",
    "\n",
    "# NOTE: correctly set the L_j (and C_j), JJ rectangular and line objects\n",
    "pinfo.junctions['junction'] = {'Lj_variable' : 'Lj_1',\n",
    "                               'Cj_variable' : 'Cj_1',\n",
    "                                'rect' : 'rect_jj1',\n",
    "                                'line' : 'line_jj1'}\n",
    "pinfo.validate_junction_info()                                "
   ]
  },
  {
   "cell_type": "markdown",
   "metadata": {},
   "source": [
    "## update the eigenmode simulation setup"
   ]
  },
  {
   "cell_type": "code",
   "execution_count": null,
   "metadata": {},
   "outputs": [],
   "source": [
    "from qiskit_metal.analyses.quantization import EPRanalysis\n",
    "\n",
    "setup_name = \"Setup1\"\n",
    "\n",
    "# delete already existing setup and create a new one\n",
    "try:\n",
    "    pinfo.design.delete_setup(setup_name)\n",
    "except:\n",
    "    pass\n",
    "\n",
    "pinfo.design.create_em_setup(name=setup_name,\n",
    "                             min_freq_ghz=2,\n",
    "                             n_modes=2,\n",
    "                             max_delta_f=0.5,\n",
    "                             max_passes=15,\n",
    "                             min_passes=1,\n",
    "                             min_converged=2,\n",
    "                             basis_order=1)\n",
    "\n",
    "# check the setup\n",
    "pinfo.setup"
   ]
  },
  {
   "cell_type": "code",
   "execution_count": null,
   "metadata": {},
   "outputs": [],
   "source": [
    "pinfo.design.save_screenshot()"
   ]
  },
  {
   "cell_type": "markdown",
   "metadata": {},
   "source": [
    "## Do EPR analysis!"
   ]
  },
  {
   "cell_type": "code",
   "execution_count": null,
   "metadata": {},
   "outputs": [],
   "source": [
    "pinfo.setup.analyze()\n",
    "\n",
    "epr_hfss = epr.DistributedAnalysis(pinfo)\n",
    "    \n",
    "epr_hfss.do_EPR_analysis()"
   ]
  },
  {
   "cell_type": "markdown",
   "metadata": {},
   "source": [
    "## Do EPR analysis! (numerical diagonalization of the Hamiltonian)\n",
    "\n",
    "#### NOTE: `cos_trunc`: truncated order for a cosine potential of a Josephson junction and `Fock_trunc`: truncated order for an oscillator   \n",
    "#### NOTE: `PT`: Perturbation theory and `ND`: Numerical diagonalization"
   ]
  },
  {
   "cell_type": "code",
   "execution_count": null,
   "metadata": {},
   "outputs": [],
   "source": [
    "epra = epr.QuantumAnalysis(epr_hfss.data_filename)\n",
    "epra.analyze_all_variations(cos_trunc = 10, fock_trunc = 15)"
   ]
  },
  {
   "cell_type": "markdown",
   "metadata": {},
   "source": [
    "## parametric sweep simulation\n",
    "\n",
    "Linear step or linear count are useful to define parametric sweep simulations in ANSYS HFSS"
   ]
  },
  {
   "cell_type": "code",
   "execution_count": null,
   "metadata": {},
   "outputs": [],
   "source": [
    "opti_name = \"linear_step\"\n",
    "swp_variable = 'height'\n",
    "swp_params = ('30mm','36mm','1mm')\n",
    "\n",
    "# 'height' is a geometric variable so cannot copy mesh between passes\n",
    "\n",
    "sweep_settings = dict(\n",
    "    variable = swp_variable,\n",
    "    swp_type = 'linear_step',\n",
    "    swp_params = swp_params,\n",
    "    name = opti_name,\n",
    "    setup_name = setup_name, \n",
    "    save_fields = True,\n",
    "    copy_mesh = False, \n",
    "    solve_with_copied_mesh_only = False, \n",
    "    setup_type = 'parametric'\n",
    ")\n",
    "\n",
    "# setup_name=None will use the first setup\n",
    "if opti_name not in pinfo.design.optimetrics.get_setup_names():\n",
    "    opti_setup = pinfo.design.optimetrics.create_setup(**sweep_settings)\n",
    "    \n",
    "\"\"\"\n",
    "opti_name = \"linear_count\"\n",
    "swp_variable = 'pad_gap'\n",
    "swp_params = ('80um', '120um', 5)\n",
    "\n",
    "sweep_settings = dict(\n",
    "    variable = swp_variable,\n",
    "    swp_type = 'linear_count',\n",
    "    swp_params = swp_params,\n",
    "    name = opti_name,\n",
    "    setup_name = setup_name, \n",
    "    save_fields = True,\n",
    "    copy_mesh = False, \n",
    "    solve_with_copied_mesh_only = False, \n",
    "    setup_type = 'parametric'\n",
    ")\n",
    "\n",
    "if opti_name not in pinfo.design.optimetrics.get_setup_names():\n",
    "    opti_setup = pinfo.design.optimetrics.create_setup(**sweep_settings)\n",
    "\"\"\""
   ]
  },
  {
   "cell_type": "code",
   "execution_count": null,
   "metadata": {},
   "outputs": [],
   "source": [
    "analysis_setup = pinfo.design.get_setup(setup_name)\n",
    "analysis_setup.solve(setup_name)\n",
    "\n",
    "pinfo.design.optimetrics.solve_setup(\"param_file\")"
   ]
  },
  {
   "cell_type": "markdown",
   "metadata": {},
   "source": [
    "# LAB HOMEWORK\n",
    "\n",
    "### Transmon-cavity system (floating type; double pad geometry) simulations. You should achieve the target parameters within 3\\%. The overall circuit layout, electric field distribution, and the convergence plot vs. adaptive pass should be attached to the report.\n",
    "\n",
    "1. Analyze the variations of qubit frequency $\\omega_q$, qubit anharmonicity $\\alpha$, cavity resonator frequency $\\omega_c$, and qubit-resonator cross Kerr shift $\\chi_{qr}$ by increasing (or decreasing) `pad_gap`, `pad_w` and `pad_h` of a double pad geometry and `Lj_1` of a Josephson junction.\n",
    "2. Analyze the variations of qubit frequency $\\omega_q$, qubit anharmonicity $\\alpha$, cavity resonator frequency $\\omega_c$, and qubit-resonator cross Kerr shift $\\chi_{qr}$ by increasing (or decreasing) the geometric features of a cavity."
   ]
  }
 ],
 "metadata": {
  "kernelspec": {
   "display_name": "quantum",
   "language": "python",
   "name": "python3"
  },
  "language_info": {
   "codemirror_mode": {
    "name": "ipython",
    "version": 3
   },
   "file_extension": ".py",
   "mimetype": "text/x-python",
   "name": "python",
   "nbconvert_exporter": "python",
   "pygments_lexer": "ipython3",
   "version": "3.11.3"
  }
 },
 "nbformat": 4,
 "nbformat_minor": 2
}
